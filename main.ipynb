{
 "cells": [
  {
   "cell_type": "code",
   "execution_count": null,
   "metadata": {},
   "outputs": [],
   "source": [
    "import pandas as pd\n",
    "import seaborn as sns\n",
    "import matplotlib.pyplot as plt\n",
    "from sklearn.preprocessing import LabelEncoder, normalize, MinMaxScaler"
   ]
  },
  {
   "cell_type": "code",
   "execution_count": null,
   "metadata": {},
   "outputs": [],
   "source": [
    "data = pd.read_csv(\"./data/train.csv\")"
   ]
  },
  {
   "cell_type": "code",
   "execution_count": null,
   "metadata": {},
   "outputs": [],
   "source": [
    "data.head(10)"
   ]
  },
  {
   "cell_type": "code",
   "execution_count": null,
   "metadata": {},
   "outputs": [],
   "source": [
    "print(f\"Number of Features : {data.shape[1]}\")\n",
    "print(f\"Number of Observations : {data.shape[0]}\")"
   ]
  },
  {
   "cell_type": "code",
   "execution_count": null,
   "metadata": {},
   "outputs": [],
   "source": [
    "print('Number of Numerical Features :',data.dtypes[data.dtypes!=object].size)\n",
    "print('Number of Categorial Features :',data.dtypes[data.dtypes==object].size)\n",
    "print(\"Categorical Features: \",data.dtypes[data.dtypes==object])"
   ]
  },
  {
   "cell_type": "code",
   "execution_count": null,
   "metadata": {},
   "outputs": [],
   "source": [
    "data.info()"
   ]
  },
  {
   "cell_type": "code",
   "execution_count": null,
   "metadata": {},
   "outputs": [],
   "source": [
    "data.describe(include='all')"
   ]
  },
  {
   "cell_type": "code",
   "execution_count": null,
   "metadata": {},
   "outputs": [],
   "source": [
    "data.isnull().sum()"
   ]
  },
  {
   "cell_type": "markdown",
   "metadata": {},
   "source": [
    "#### Drawing the distribution plots, to check for outliters later in the script"
   ]
  },
  {
   "cell_type": "code",
   "execution_count": null,
   "metadata": {},
   "outputs": [],
   "source": [
    "for i in data.select_dtypes(include=\"number\"):\n",
    "    sns.displot(data[i], kde=\"True\")\n",
    "    plt.show()\n",
    "    sns.boxplot(data[i])\n",
    "    plt.show()"
   ]
  },
  {
   "cell_type": "code",
   "execution_count": null,
   "metadata": {},
   "outputs": [],
   "source": [
    "sns.countplot(data=data, y=\"Item_Type\", order=data[\"Item_Type\"].value_counts().index)"
   ]
  },
  {
   "cell_type": "markdown",
   "metadata": {},
   "source": [
    "# Data Visualisation"
   ]
  },
  {
   "cell_type": "code",
   "execution_count": null,
   "metadata": {},
   "outputs": [],
   "source": [
    "for i in [\"Item_Weight\",\"Item_MRP\",\"Item_Visibility\",\"Item_Outlet_Sales\"]:\n",
    "    plt.figure(figsize=(12, 6))\n",
    "    sns.lineplot(x=\"Item_Type\", y=i, data=data[[\"Item_Type\",i]].groupby([\"Item_Type\"]).mean())\n",
    "    plt.xticks(rotation=90)\n",
    "    plt.title(f'Mean {i} by Item Type')\n",
    "    plt.show()\n"
   ]
  },
  {
   "cell_type": "code",
   "execution_count": null,
   "metadata": {},
   "outputs": [],
   "source": [
    "for i in [\"Item_Weight\",\"Item_MRP\",\"Item_Visibility\",\"Item_Outlet_Sales\"]:\n",
    "    plt.figure(figsize=(12, 6))\n",
    "    sns.barplot(x=\"Item_Type\", y=i, data=data[[\"Item_Type\",i]].groupby([\"Item_Type\"]).sum().sort_values([i],ascending=False\n",
    "                                                                                                        ))\n",
    "    plt.xticks(rotation=90)\n",
    "    plt.title(f'Total {i} by Item Type')\n",
    "    plt.show()\n"
   ]
  },
  {
   "cell_type": "code",
   "execution_count": null,
   "metadata": {},
   "outputs": [],
   "source": [
    "item_types = data[\"Item_Type\"].unique()\n",
    "\n",
    "for i, item_type in enumerate(item_types):\n",
    "    plt.figure(figsize=(12, 6))\n",
    "    sns.lineplot(y=\"Item_MRP\", x=\"Item_Fat_Content\", data=data[data[\"Item_Type\"] == item_type])\n",
    "    plt.xlabel(\"Item Fat Content\")\n",
    "    plt.ylabel(\"Item MRP\")\n",
    "    plt.title(f\"Item Type: {item_type}\")\n",
    "    plt.show()"
   ]
  },
  {
   "cell_type": "code",
   "execution_count": null,
   "metadata": {},
   "outputs": [],
   "source": [
    "plt.figure(figsize=(12,6))\n",
    "sns.countplot(data=data,x=\"Outlet_Type\")\n",
    "plt.xlabel(\"Count of Outlet Type\")\n",
    "plt.xlabel(\"Outlet Type\")"
   ]
  },
  {
   "cell_type": "code",
   "execution_count": null,
   "metadata": {},
   "outputs": [],
   "source": [
    "plt.figure(figsize=(12,6))\n",
    "sns.countplot(data=data,x=\"Outlet_Location_Type\")\n",
    "plt.xlabel(\"Count of Outlet Location Type\")\n",
    "plt.xlabel(\"Outlet Location Type\")"
   ]
  },
  {
   "cell_type": "code",
   "execution_count": null,
   "metadata": {},
   "outputs": [],
   "source": [
    "plt.figure(figsize=(12,6))\n",
    "sns.scatterplot(data=data.groupby([\"Outlet_Establishment_Year\",\"Outlet_Identifier\"]).sum(),x=\"Outlet_Identifier\",y=\"Outlet_Establishment_Year\")"
   ]
  },
  {
   "cell_type": "code",
   "execution_count": null,
   "metadata": {},
   "outputs": [],
   "source": [
    "for i in [\"Outlet_Establishment_Year\", \"Outlet_Location_Type\", \"Outlet_Type\"]:\n",
    "    plt.figure(figsize=(12, 6))\n",
    "    sns.barplot(\n",
    "        data=data.groupby([i, \"Outlet_Identifier\"]).sum(),\n",
    "        hue=\"Outlet_Identifier\",\n",
    "        x=i,\n",
    "        y=\"Item_Outlet_Sales\",\n",
    "    )\n",
    "    plt.xlabel(i)\n",
    "    plt.ylabel(\"Total Sales\")\n",
    "    plt.title(f\"Relationship between {i} and Total Sales\")\n",
    "    plt.show()"
   ]
  },
  {
   "cell_type": "code",
   "execution_count": null,
   "metadata": {},
   "outputs": [],
   "source": [
    "data[\"Outlet_Identifier\"].unique()"
   ]
  },
  {
   "cell_type": "markdown",
   "metadata": {},
   "source": [
    "# Data preprocessing\n",
    "\n",
    "We will begin with checking the Item_Fat_Content because that seems to be having sound suspicious unique values. There are different spellings to the same thing, which can be corrected to generalise the fat content, for example:-\n",
    "\n",
    "- lf, low fat , LF can become Low Fat\n",
    "- reg can become Regular"
   ]
  },
  {
   "cell_type": "code",
   "execution_count": null,
   "metadata": {},
   "outputs": [],
   "source": [
    "print(data[\"Item_Fat_Content\"].unique())\n",
    "data.replace(\n",
    "    {\"Item_Fat_Content\": {\"low_fat\": \"Low Fat\", \"lf\": \"Low Fat\", \"LF\": \"Low Fat\"}},\n",
    "    inplace=True,\n",
    ")\n",
    "\n",
    "data.replace({\"Item_Fat_Content\": {\"reg\": \"Regular\"}}, inplace=True)\n",
    "\n",
    "\n",
    "print(data[\"Item_Fat_Content\"].unique())"
   ]
  },
  {
   "cell_type": "markdown",
   "metadata": {},
   "source": [
    "## Treat Missing Data"
   ]
  },
  {
   "cell_type": "markdown",
   "metadata": {},
   "source": [
    "### Treat the missing values for Item Weight\n",
    "\n",
    "Since the item identifiers are duplicated in the dataset, it is possible that the weight has been entered in one observation but missing in another for the same item identifier, therefore, we are first checking what item identifiers have weights in one of the many recorded observations. We are substituting these observations with the present observation.\n",
    "\n",
    "We also calculate what item identifiers do not have item weight in any of the recorded observations. We fill these item weight gaps using the mean of the weights of their item types. This has been supported by drawing a distribution plot for the weights of the items grouped by item types, to ensure we are not dealing with any outliers or exceptional cases, that may make our assumption erroneous. "
   ]
  },
  {
   "cell_type": "code",
   "execution_count": null,
   "metadata": {},
   "outputs": [],
   "source": [
    "items_without_weight =  set(\n",
    "    data.loc[data[\"Item_Weight\"].isna()][\"Item_Identifier\"].unique()\n",
    ")\n",
    "items_with_item_weight = set(\n",
    "    data.loc[-data[\"Item_Weight\"].isna()][\"Item_Identifier\"].unique()\n",
    ")\n",
    "items_with_missing_weight = items_without_weight.intersection(\n",
    "    items_with_item_weight\n",
    ")\n",
    "\n",
    "items_with_absent_weight = items_without_weight.difference(items_with_item_weight)\n",
    "\n",
    "weight = data[\n",
    "    (data[\"Item_Identifier\"].isin(items_with_missing_weight))\n",
    "    & (-data[\"Item_Weight\"].isna())\n",
    "].iloc[0][\"Item_Weight\"]\n",
    "\n",
    "data.loc[\n",
    "    data[\"Item_Identifier\"].isin(items_with_missing_weight), \"Item_Weight\"\n",
    "] = data.loc[\n",
    "    data[\"Item_Identifier\"].isin(items_with_missing_weight), \"Item_Weight\"\n",
    "].fillna(\n",
    "    weight\n",
    ")\n",
    "\n",
    "\n",
    "item_types = set()\n",
    "item_types.update(\n",
    "    set(\n",
    "        data.loc[\n",
    "            data[\"Item_Identifier\"].isin(items_with_absent_weight),\n",
    "            \"Item_Type\",\n",
    "        ].unique()\n",
    "    )\n",
    ")\n",
    "sns.displot(data=data[data[\"Item_Type\"] == i], x=\"Item_Weight\", kde=True)\n",
    "\n",
    "average_weights = {}\n",
    "\n",
    "\n",
    "for i in item_types:\n",
    "    sns.displot(data=data[data[\"Item_Type\"] == i], x=\"Item_Weight\", kde=True)\n",
    "    plt.title(f\"Item Weight Distribution for Item Type {i}\")\n",
    "    average_weights[i] = data[data[\"Item_Type\"] == i][\"Item_Weight\"].mean()\n",
    "\n",
    "for i in items_with_absent_weight:\n",
    "    data.loc[data[\"Item_Identifier\"] == i, \"Item_Weight\"] = data.loc[\n",
    "        data[\"Item_Identifier\"] == i, \"Item_Weight\"\n",
    "    ].fillna(\n",
    "        average_weights.get(data.loc[data[\"Item_Identifier\"] == i, \"Item_Type\"].iloc[0])\n",
    "    )"
   ]
  },
  {
   "cell_type": "markdown",
   "metadata": {},
   "source": [
    "### Treat the missing values for Outlet Size"
   ]
  },
  {
   "cell_type": "code",
   "execution_count": null,
   "metadata": {},
   "outputs": [],
   "source": [
    "outlets_without_size = set(\n",
    "    data.loc[data[\"Outlet_Size\"].isna()][\"Outlet_Identifier\"].unique()\n",
    ")\n",
    "outlets_with_size = set(\n",
    "    data.loc[-data[\"Outlet_Size\"].isna()][\"Outlet_Identifier\"].unique()\n",
    ")\n",
    "outlets_with_missing_size = outlets_without_size.intersection(outlets_with_size)\n",
    "\n",
    "outlets_with_absent_size = outlets_without_size.difference(outlets_with_size)\n",
    "\n",
    "print(\n",
    "    f\"Number of outlets that have sizes but missing in one of the rows of items: {len(outlets_with_missing_size)}\"\n",
    ")\n",
    "\n",
    "print(\n",
    "    f\"Number of outlets that do not have sizes in any of the rows: {len(outlets_with_absent_size)}\"\n",
    ")\n",
    "\n",
    "print(f\"Outlets identifiers without any size: {outlets_with_absent_size}\")\n",
    "\n",
    "\n",
    "print(\n",
    "    data.loc[\n",
    "        data[\"Outlet_Identifier\"].isin(outlets_with_absent_size),\n",
    "        [\"Outlet_Type\", \"Outlet_Location_Type\", \"Outlet_Size\"],\n",
    "    ]\n",
    ")\n",
    "\n",
    "print(\n",
    "    data.loc[\n",
    "        data[\"Outlet_Identifier\"].isin(outlets_with_absent_size),\n",
    "        \"Outlet_Location_Type\",\n",
    "    ].unique()\n",
    ")\n",
    "\n",
    "print(\n",
    "    data.loc[\n",
    "        data[\"Outlet_Identifier\"].isin(outlets_with_absent_size),\n",
    "        \"Outlet_Type\",\n",
    "    ].unique()\n",
    ")\n",
    "\n",
    "plt.figure(figsize=(10, 6))\n",
    "sns.barplot(\n",
    "    x=\"Outlet_Type\",\n",
    "    y=\"Unique_Size_Count\",\n",
    "    hue=\"Outlet_Location_Type\",\n",
    "    data=data.groupby([\"Outlet_Type\", \"Outlet_Location_Type\"])[\"Outlet_Size\"]\n",
    "    .nunique()\n",
    "    .reset_index(name=\"Unique_Size_Count\"),\n",
    ")\n",
    "plt.title(\"Unique Outlet Size Count by Outlet Type and Location Type\")\n",
    "plt.xlabel(\"Outlet Type\")\n",
    "plt.ylabel(\"Unique Outlet Size Count\")\n"
   ]
  },
  {
   "cell_type": "code",
   "execution_count": null,
   "metadata": {},
   "outputs": [],
   "source": [
    "data.loc[\n",
    "    data[\"Outlet_Location_Type\"].isin([\"Tier 3\"]),\n",
    "    [\"Outlet_Identifier\", \"Outlet_Size\"],\n",
    "][\"Outlet_Size\"].unique()\n",
    "\n",
    "data.loc[\n",
    "    data[\"Outlet_Type\"].isin([\"Grocery Store\"]),\n",
    "    [\"Outlet_Identifier\", \"Outlet_Size\"],\n",
    "][\"Outlet_Size\"].unique()"
   ]
  },
  {
   "cell_type": "markdown",
   "metadata": {},
   "source": [
    "## Encoding Categorical Data"
   ]
  },
  {
   "cell_type": "markdown",
   "metadata": {},
   "source": [
    "#### Label Encoding Outlet_Location_Type, Label Encoding Outlet_Size"
   ]
  },
  {
   "cell_type": "code",
   "execution_count": null,
   "metadata": {},
   "outputs": [],
   "source": [
    "for i in [\"Outlet_Location_Type\", \"Outlet_Size\", \"Item_Fat_Content\"]:\n",
    "    data[i] = LabelEncoder().fit_transform(data[i].ravel())"
   ]
  },
  {
   "cell_type": "markdown",
   "metadata": {},
   "source": [
    "### One-Hot Encoding Item_Fat_Content, Item_Type, \"Outlet_Type\""
   ]
  },
  {
   "cell_type": "code",
   "execution_count": null,
   "metadata": {},
   "outputs": [],
   "source": [
    "data = pd.get_dummies(data, columns=[\"Item_Type\", \"Outlet_Type\"])"
   ]
  },
  {
   "cell_type": "markdown",
   "metadata": {},
   "source": [
    "#### Standardise or Normalise the Outlet_Establishment_Year"
   ]
  },
  {
   "cell_type": "code",
   "execution_count": null,
   "metadata": {},
   "outputs": [],
   "source": [
    "data[\"Outlet_Establishment_Year\"] = MinMaxScaler().fit_transform(\n",
    "    data[\"Outlet_Establishment_Year\"].values.reshape(-1, 1)\n",
    ")\n",
    "data[\"Outlet_Establishment_Year_Normalised\"] = normalize(\n",
    "    data[\"Outlet_Establishment_Year\"].values.reshape(-1, 1), axis=0\n",
    ")"
   ]
  },
  {
   "cell_type": "code",
   "execution_count": null,
   "metadata": {},
   "outputs": [],
   "source": [
    "data.replace({True: 1, False: 0}, inplace=True)\n",
    "data.info()"
   ]
  }
 ],
 "metadata": {
  "kernelspec": {
   "display_name": "big-mart-sales-prediction-dWrbeOef",
   "language": "python",
   "name": "python3"
  },
  "language_info": {
   "codemirror_mode": {
    "name": "ipython",
    "version": 3
   },
   "file_extension": ".py",
   "mimetype": "text/x-python",
   "name": "python",
   "nbconvert_exporter": "python",
   "pygments_lexer": "ipython3",
   "version": "3.11.7"
  }
 },
 "nbformat": 4,
 "nbformat_minor": 2
}
